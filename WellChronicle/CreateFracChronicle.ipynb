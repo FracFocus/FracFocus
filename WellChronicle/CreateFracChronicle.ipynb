{
 "cells": [
  {
   "cell_type": "code",
   "execution_count": 2,
   "metadata": {},
   "outputs": [],
   "source": [
    "import sqlite3\n",
    "import pandas as pd"
   ]
  },
  {
   "cell_type": "code",
   "execution_count": 3,
   "metadata": {},
   "outputs": [
    {
     "name": "stdout",
     "output_type": "stream",
     "text": [
      "connected to sqlite3 verion: 2.6.0\n"
     ]
    }
   ],
   "source": [
    "conn = sqlite3.connect('FF_data')\n",
    "print(\"connected to sqlite3 verion:\", sqlite3.version)"
   ]
  },
  {
   "cell_type": "code",
   "execution_count": 22,
   "metadata": {},
   "outputs": [],
   "source": [
    "df = pd.read_sql_query(\n",
    "     \"\"\"SELECT APINumber\n",
    "              ,OperatorName\n",
    "              ,JobEndDate\n",
    "              \n",
    "        from RegistryUpload\"\"\"\n",
    "       ,conn)"
   ]
  },
  {
   "cell_type": "code",
   "execution_count": 23,
   "metadata": {},
   "outputs": [
    {
     "data": {
      "text/html": [
       "<div>\n",
       "<style scoped>\n",
       "    .dataframe tbody tr th:only-of-type {\n",
       "        vertical-align: middle;\n",
       "    }\n",
       "\n",
       "    .dataframe tbody tr th {\n",
       "        vertical-align: top;\n",
       "    }\n",
       "\n",
       "    .dataframe thead th {\n",
       "        text-align: right;\n",
       "    }\n",
       "</style>\n",
       "<table border=\"1\" class=\"dataframe\">\n",
       "  <thead>\n",
       "    <tr style=\"text-align: right;\">\n",
       "      <th></th>\n",
       "      <th>APINumber</th>\n",
       "      <th>OperatorName</th>\n",
       "      <th>JobEndDate</th>\n",
       "    </tr>\n",
       "  </thead>\n",
       "  <tbody>\n",
       "    <tr>\n",
       "      <th>0</th>\n",
       "      <td>49009219470000</td>\n",
       "      <td>Chesapeake Operating, Inc.</td>\n",
       "      <td>5/19/1982 12:00:00 AM</td>\n",
       "    </tr>\n",
       "    <tr>\n",
       "      <th>1</th>\n",
       "      <td>49009228850000</td>\n",
       "      <td>Chesapeake Operating, Inc.</td>\n",
       "      <td>2/7/1995 12:00:00 AM</td>\n",
       "    </tr>\n",
       "    <tr>\n",
       "      <th>2</th>\n",
       "      <td>42335355480000</td>\n",
       "      <td>Energen Resources Corporation</td>\n",
       "      <td>6/11/1996 12:00:00 AM</td>\n",
       "    </tr>\n",
       "    <tr>\n",
       "      <th>3</th>\n",
       "      <td>42395313840000</td>\n",
       "      <td>XTO Energy/ExxonMobil</td>\n",
       "      <td>12/13/2001 12:00:00 AM</td>\n",
       "    </tr>\n",
       "    <tr>\n",
       "      <th>4</th>\n",
       "      <td>37059247370000</td>\n",
       "      <td>CONSOL Energy Inc.</td>\n",
       "      <td>9/22/2008 12:00:00 AM</td>\n",
       "    </tr>\n",
       "  </tbody>\n",
       "</table>\n",
       "</div>"
      ],
      "text/plain": [
       "        APINumber                   OperatorName              JobEndDate\n",
       "0  49009219470000     Chesapeake Operating, Inc.   5/19/1982 12:00:00 AM\n",
       "1  49009228850000     Chesapeake Operating, Inc.    2/7/1995 12:00:00 AM\n",
       "2  42335355480000  Energen Resources Corporation   6/11/1996 12:00:00 AM\n",
       "3  42395313840000          XTO Energy/ExxonMobil  12/13/2001 12:00:00 AM\n",
       "4  37059247370000             CONSOL Energy Inc.   9/22/2008 12:00:00 AM"
      ]
     },
     "execution_count": 23,
     "metadata": {},
     "output_type": "execute_result"
    }
   ],
   "source": [
    "# Review top five rows\n",
    "df.head()"
   ]
  },
  {
   "cell_type": "code",
   "execution_count": 24,
   "metadata": {},
   "outputs": [],
   "source": [
    "# Add date to start recording dates wells were added to FracFocus.org\n",
    "df['pullDate'] = pd.to_datetime('today').date()"
   ]
  },
  {
   "cell_type": "code",
   "execution_count": 25,
   "metadata": {},
   "outputs": [
    {
     "data": {
      "text/html": [
       "<div>\n",
       "<style scoped>\n",
       "    .dataframe tbody tr th:only-of-type {\n",
       "        vertical-align: middle;\n",
       "    }\n",
       "\n",
       "    .dataframe tbody tr th {\n",
       "        vertical-align: top;\n",
       "    }\n",
       "\n",
       "    .dataframe thead th {\n",
       "        text-align: right;\n",
       "    }\n",
       "</style>\n",
       "<table border=\"1\" class=\"dataframe\">\n",
       "  <thead>\n",
       "    <tr style=\"text-align: right;\">\n",
       "      <th></th>\n",
       "      <th>APINumber</th>\n",
       "      <th>OperatorName</th>\n",
       "      <th>JobEndDate</th>\n",
       "      <th>pullDate</th>\n",
       "    </tr>\n",
       "  </thead>\n",
       "  <tbody>\n",
       "    <tr>\n",
       "      <th>173916</th>\n",
       "      <td>42173346750000</td>\n",
       "      <td>Berry Petroleum</td>\n",
       "      <td>5/23/2021 12:00:00 AM</td>\n",
       "      <td>2020-10-18</td>\n",
       "    </tr>\n",
       "    <tr>\n",
       "      <th>173917</th>\n",
       "      <td>42115334560000</td>\n",
       "      <td>Pioneer Natural Resources</td>\n",
       "      <td>6/8/2021 12:00:00 AM</td>\n",
       "      <td>2020-10-18</td>\n",
       "    </tr>\n",
       "    <tr>\n",
       "      <th>173918</th>\n",
       "      <td>42227368950000</td>\n",
       "      <td>Meritage Energy Company, LLC</td>\n",
       "      <td>4/1/3012 12:00:00 AM</td>\n",
       "      <td>2020-10-18</td>\n",
       "    </tr>\n",
       "  </tbody>\n",
       "</table>\n",
       "</div>"
      ],
      "text/plain": [
       "             APINumber                  OperatorName             JobEndDate  \\\n",
       "173916  42173346750000               Berry Petroleum  5/23/2021 12:00:00 AM   \n",
       "173917  42115334560000     Pioneer Natural Resources   6/8/2021 12:00:00 AM   \n",
       "173918  42227368950000  Meritage Energy Company, LLC   4/1/3012 12:00:00 AM   \n",
       "\n",
       "          pullDate  \n",
       "173916  2020-10-18  \n",
       "173917  2020-10-18  \n",
       "173918  2020-10-18  "
      ]
     },
     "execution_count": 25,
     "metadata": {},
     "output_type": "execute_result"
    }
   ],
   "source": [
    "# See the added column in the last three rows\n",
    "df = df.drop_duplicates().reset_index(drop=True)\n",
    "df.tail(3)"
   ]
  },
  {
   "cell_type": "code",
   "execution_count": 26,
   "metadata": {},
   "outputs": [],
   "source": [
    "df.to_sql('fracChronicle', conn, index=False, if_exists='replace')"
   ]
  },
  {
   "cell_type": "code",
   "execution_count": 27,
   "metadata": {},
   "outputs": [],
   "source": [
    "conn.close()"
   ]
  },
  {
   "cell_type": "code",
   "execution_count": null,
   "metadata": {},
   "outputs": [],
   "source": []
  }
 ],
 "metadata": {
  "kernelspec": {
   "display_name": "Python 3",
   "language": "python",
   "name": "python3"
  },
  "language_info": {
   "codemirror_mode": {
    "name": "ipython",
    "version": 3
   },
   "file_extension": ".py",
   "mimetype": "text/x-python",
   "name": "python",
   "nbconvert_exporter": "python",
   "pygments_lexer": "ipython3",
   "version": "3.7.6"
  }
 },
 "nbformat": 4,
 "nbformat_minor": 4
}
